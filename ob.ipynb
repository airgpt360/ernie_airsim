{
 "cells": [
  {
   "cell_type": "code",
   "execution_count": 5,
   "metadata": {
    "collapsed": true,
    "ExecuteTime": {
     "end_time": "2023-12-03T08:28:56.826968Z",
     "start_time": "2023-12-03T08:28:35.841812Z"
    }
   },
   "outputs": [],
   "source": [
    "import ernie_airsim\n",
    "ernie_airsim = ernie_airsim.ErnieAirSim()"
   ]
  },
  {
   "cell_type": "code",
   "execution_count": 6,
   "outputs": [
    {
     "name": "stdout",
     "output_type": "stream",
     "text": [
      "python_code: import math\n",
      "\n",
      "target_position = [x, y, z]  # 替换为实际的目标 XYZ 坐标\n",
      "current_position = aw.get_drone_position()\n",
      "current_yaw = aw.get_yaw()\n",
      "\n",
      "while current_position != target_position:\n",
      "    # 计算目标方向与当前方向的偏差角度\n",
      "    target_yaw = math.atan2(target_position[1] - current_position[1], target_position[0] - current_position[0]) * (180 / math.pi)\n",
      "    yaw_difference = target_yaw - current_yaw\n",
      "\n",
      "    # 调整偏航角，使无人机面向目标方向\n",
      "    if yaw_difference > 180:\n",
      "        yaw_difference -= 360\n",
      "    elif yaw_difference < -180:\n",
      "        yaw_difference += 360\n",
      "    aw.set_yaw(current_yaw + yaw_difference / 10)  # 分步调整偏航角，避免突然转向\n",
      "\n",
      "    # 检查前方是否有障碍物\n",
      "    distance = aw.get_distance()\n",
      "    if distance < 10:\n",
      "        # 旋转无人机，直到前方至少有 10 米的间隙\n",
      "        while distance < 10:\n",
      "            aw.set_yaw(current_yaw + 10)  # 每次旋转 10 度\n",
      "            distance = aw.get_distance()\n",
      "\n",
      "    # 朝着无人机当前面向的方向飞行一小段距离\n",
      "    aw.fly_to([current_position[0] + math.cos(current_yaw * (math.pi / 180)), current_position[1] + math.sin(current_yaw * (math.pi / 180)), current_position[2]])\n",
      "    current_position = aw.get_drone_position()\n",
      "\n"
     ]
    }
   ],
   "source": [
    "command = \"\"\"\n",
    "假设我给你一些 XYZ 坐标作为目标。我希望你控制无人机，让它朝目标移动，同时避开前面的障碍物。无人机不应直接飞向目标，而应小步前进，同时在每一步重新评估障碍物情况。\n",
    "\n",
    "无人机配备了距离传感器，可返回与无人机正前方最近的障碍物的距离。您可以通过调用 aw.get_distance() 来访问它。\n",
    "\n",
    "我希望您确保只有在无人机前方距离至少 10 米的情况下才可以飞行。如果没有，请旋转无人机，直到前方至少有 10 米的间隙，d当无人机旋转后，朝着无人机当前面向的方向飞行一小段距离。当飞行一段距离后，不要忘记再次面对目标飞行。知道了吧？\n",
    "请写出相关代码\n",
    "\"\"\"\n",
    "python_code = ernie_airsim.process(command)\n",
    "print(\"python_code:\", python_code)"
   ],
   "metadata": {
    "collapsed": false,
    "ExecuteTime": {
     "end_time": "2023-12-03T08:29:47.550423Z",
     "start_time": "2023-12-03T08:29:07.588849Z"
    }
   }
  },
  {
   "cell_type": "code",
   "execution_count": 7,
   "outputs": [
    {
     "name": "stdout",
     "output_type": "stream",
     "text": [
      "python_code: import math\n",
      "\n",
      "target_position = [x, y, z]  # 替换为实际的目标 XYZ 坐标\n",
      "current_position = aw.get_drone_position()\n",
      "current_yaw = aw.get_yaw()\n",
      "\n",
      "while math.dist(current_position, target_position) > 3:\n",
      "    # 计算目标方向与当前方向的偏差角度\n",
      "    target_yaw = math.atan2(target_position[1] - current_position[1], target_position[0] - current_position[0]) * (180 / math.pi)\n",
      "    \n",
      "    # 调整偏航角，使无人机面向目标方向\n",
      "    aw.set_yaw(target_yaw)\n",
      "    current_yaw = aw.get_yaw()  # 重新获取当前的偏航角\n",
      "\n",
      "    # 检查前方是否有障碍物\n",
      "    distance = aw.get_distance()\n",
      "    if distance < 10:\n",
      "        # 旋转无人机，直到前方至少有 10 米的间隙\n",
      "        while distance < 10:\n",
      "            aw.set_yaw(current_yaw + 10)  # 每次旋转 10 度\n",
      "            distance = aw.get_distance()\n",
      "            current_yaw = aw.get_yaw()  # 重新获取当前的偏航角\n",
      "\n",
      "    # 朝着无人机当前面向的方向飞行一小段距离\n",
      "    aw.fly_to([current_position[0] + math.cos(current_yaw * (math.pi / 180)) * 5, current_position[1] + math.sin(current_yaw * (math.pi / 180)) * 5, current_position[2]])\n",
      "    current_position = aw.get_drone_position()\n",
      "\n"
     ]
    }
   ],
   "source": [
    "command = \"\"\"\n",
    "写的不错，有以下小的改进：\n",
    "1 调整无人机的旋转角度的时候，直接调整即可，不需要考虑突然转向造成的问题。\n",
    "2 无人当前位置和目标位置不需要完成重合，只要距离小于3米就算到达了。\n",
    "3 调整角度后，需要重新获得当前的偏航角current_yaw，然后再向前飞行，飞行距离可以稍微长一些，比如5米。\n",
    "\"\"\"\n",
    "python_code = ernie_airsim.process(command)\n",
    "print(\"python_code:\", python_code)"
   ],
   "metadata": {
    "collapsed": false,
    "ExecuteTime": {
     "end_time": "2023-12-03T08:40:10.230804Z",
     "start_time": "2023-12-03T08:39:34.295120Z"
    }
   }
  },
  {
   "cell_type": "code",
   "execution_count": null,
   "outputs": [],
   "source": [],
   "metadata": {
    "collapsed": false
   }
  }
 ],
 "metadata": {
  "kernelspec": {
   "display_name": "Python 3",
   "language": "python",
   "name": "python3"
  },
  "language_info": {
   "codemirror_mode": {
    "name": "ipython",
    "version": 2
   },
   "file_extension": ".py",
   "mimetype": "text/x-python",
   "name": "python",
   "nbconvert_exporter": "python",
   "pygments_lexer": "ipython2",
   "version": "2.7.6"
  }
 },
 "nbformat": 4,
 "nbformat_minor": 0
}
