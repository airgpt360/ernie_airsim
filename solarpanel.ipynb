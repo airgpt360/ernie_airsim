{
 "cells": [
  {
   "cell_type": "code",
   "execution_count": 153,
   "metadata": {
    "collapsed": true,
    "ExecuteTime": {
     "end_time": "2023-12-02T15:02:18.269201Z",
     "start_time": "2023-12-02T15:01:57.618094Z"
    }
   },
   "outputs": [],
   "source": [
    "import ernie_airsim\n",
    "ernie_airsim = ernie_airsim.ErnieAirSim()"
   ]
  },
  {
   "cell_type": "code",
   "execution_count": 154,
   "outputs": [
    {
     "name": "stdout",
     "output_type": "stream",
     "text": [
      "python_code: aw.takeoff()\n",
      "\n"
     ]
    }
   ],
   "source": [
    "command = \"请起飞吧\"\n",
    "python_code = ernie_airsim.process(command)\n",
    "print(\"python_code:\", python_code)"
   ],
   "metadata": {
    "collapsed": false,
    "ExecuteTime": {
     "end_time": "2023-12-02T15:02:29.983563Z",
     "start_time": "2023-12-02T15:02:26.055315Z"
    }
   }
  },
  {
   "cell_type": "code",
   "execution_count": 155,
   "outputs": [
    {
     "name": "stdout",
     "output_type": "stream",
     "text": [
      "python_code: # 获取无人机当前位置\n",
      "current_position = aw.get_drone_position()\n",
      "\n",
      "# 顺时针旋转90度\n",
      "aw.set_yaw(aw.get_yaw() + 90)\n",
      "\n",
      "# 飞向太阳能电池板\n",
      "solarpanel_position = aw.get_position(\"solarpanels\")\n",
      "aw.fly_to([solarpanel_position[0], solarpanel_position[1], solarpanel_position[2]])\n",
      "\n"
     ]
    }
   ],
   "source": [
    "command = \"顺时针旋转90度，飞向太阳能电池板。\"\n",
    "python_code = ernie_airsim.process(command)\n",
    "print(\"python_code:\", python_code)"
   ],
   "metadata": {
    "collapsed": false,
    "ExecuteTime": {
     "end_time": "2023-12-02T15:02:49.810813Z",
     "start_time": "2023-12-02T15:02:37.630405Z"
    }
   }
  },
  {
   "cell_type": "code",
   "execution_count": 156,
   "outputs": [
    {
     "name": "stdout",
     "output_type": "stream",
     "text": [
      "python_code: # 获取无人机当前位置\n",
      "current_position = aw.get_drone_position()\n",
      "\n",
      "# 沿宽度方向向右飞到第一行的最右端\n",
      "aw.fly_to([current_position[0]-30, current_position[1], current_position[2]])\n",
      "\n",
      "# 向后飞行6米到达第二行的最右端\n",
      "aw.fly_to([current_position[0]-30, current_position[1]-6, current_position[2]])\n",
      "\n",
      "# 向左飞行到达第二行的最左侧\n",
      "aw.fly_to([current_position[0], current_position[1]-6, current_position[2]])\n",
      "\n",
      "# 再向后飞行6米到达下一行\n",
      "aw.fly_to([current_position[0], current_position[1]-12, current_position[2]])\n",
      "\n"
     ]
    }
   ],
   "source": [
    "command = \"\"\"\n",
    "现在无人机朝向东方，处在太阳能电池板阵列第一行的最左边。\n",
    "\n",
    "太阳能电池板阵列宽30米（和X轴平行），长50米(和Y轴平行)\n",
    "\n",
    "请始终保持5米的高度飞行。\n",
    "\n",
    "沿宽度方向，向右飞到第一行的最右端。\n",
    "注意，此时X坐标应该是减去一个正数。\n",
    "\n",
    "然后向后飞行6米，也就是沿长度方向，到达第二行的最右端。\n",
    "\n",
    "之后再向左做飞行，到达第二行的最左侧，\n",
    "\n",
    "然后再向后飞行6米，到达下一行。\n",
    "\"\"\"\n",
    "python_code = ernie_airsim.process(command)\n",
    "print(\"python_code:\", python_code)"
   ],
   "metadata": {
    "collapsed": false,
    "ExecuteTime": {
     "end_time": "2023-12-02T15:03:38.450907Z",
     "start_time": "2023-12-02T15:03:17.159642Z"
    }
   }
  },
  {
   "cell_type": "code",
   "execution_count": 157,
   "outputs": [
    {
     "name": "stdout",
     "output_type": "stream",
     "text": [
      "python_code: # 重复5次\n",
      "for i in range(5):\n",
      "    # 获取无人机当前位置\n",
      "    current_position = aw.get_drone_position()\n",
      "    \n",
      "    # 沿宽度方向向右飞到第一行的最右端\n",
      "    aw.fly_to([current_position[0]-30, current_position[1], current_position[2]])\n",
      "    \n",
      "    # 向后飞行6米到达第二行的最右端\n",
      "    aw.fly_to([current_position[0]-30, current_position[1]-6, current_position[2]])\n",
      "    \n",
      "    # 向左飞行到达第二行的最左侧\n",
      "    aw.fly_to([current_position[0], current_position[1]-6, current_position[2]])\n",
      "    \n",
      "    # 再向后飞行6米到达下一行\n",
      "    aw.fly_to([current_position[0], current_position[1]-12, current_position[2]])\n",
      "\n"
     ]
    }
   ],
   "source": [
    "command = \"太棒了，重复上面动作3次，请注意，每次流程开始，都需要获得无人机最新位置\"\n",
    "python_code = ernie_airsim.process(command)\n",
    "print(\"python_code:\", python_code)"
   ],
   "metadata": {
    "collapsed": false,
    "ExecuteTime": {
     "end_time": "2023-12-02T15:04:43.826282Z",
     "start_time": "2023-12-02T15:04:16.474043Z"
    }
   }
  },
  {
   "cell_type": "code",
   "execution_count": 152,
   "outputs": [
    {
     "name": "stdout",
     "output_type": "stream",
     "text": [
      "python_code: # 重复次数\n",
      "repeat_times = 5\n",
      "\n",
      "# 获取无人机当前位置\n",
      "current_position = aw.get_drone_position()\n",
      "\n",
      "# 循环重复动作\n",
      "for i in range(repeat_times):\n",
      "    # 获取无人机最新位置\n",
      "    current_position = aw.get_drone_position()\n",
      "    \n",
      "    # 沿宽度方向向右飞到第一行的最右端\n",
      "    aw.fly_to([current_position[0]-30, current_position[1], current_position[2]])\n",
      "\n",
      "    # 获取无人机最新位置\n",
      "    current_position = aw.get_drone_position()\n",
      "    \n",
      "    # 向后飞行6米到达第二行的最右端\n",
      "    aw.fly_to([current_position[0]-30, current_position[1]-6, current_position[2]])\n",
      "\n",
      "    # 获取无人机最新位置\n",
      "    current_position = aw.get_drone_position()\n",
      "    \n",
      "    # 向左飞行到达第二行的最左侧\n",
      "    aw.fly_to([current_position[0], current_position[1]-6, current_position[2]])\n",
      "\n",
      "    # 获取无人机最新位置\n",
      "    current_position = aw.get_drone_position()\n",
      "    \n",
      "    # 再向后飞行6米到达下一行\n",
      "    aw.fly_to([current_position[0], current_position[1]-12, current_position[2]])\n",
      "    \n",
      "    # 更新当前位置为下一循环的起始位置\n",
      "    current_position = [current_position[0], current_position[1]-12, current_position[2]]\n",
      "\n"
     ]
    }
   ],
   "source": [
    "command = \"有点问题，因为是多次循环执行，每次代码循环开始时，都需要获得无人机的最新位置。请更正下\"\n",
    "python_code = ernie_airsim.process(command)\n",
    "print(\"python_code:\", python_code)"
   ],
   "metadata": {
    "collapsed": false,
    "ExecuteTime": {
     "end_time": "2023-12-02T15:01:01.875564Z",
     "start_time": "2023-12-02T15:00:31.944318Z"
    }
   }
  },
  {
   "cell_type": "code",
   "execution_count": null,
   "outputs": [],
   "source": [],
   "metadata": {
    "collapsed": false
   }
  }
 ],
 "metadata": {
  "kernelspec": {
   "display_name": "Python 3",
   "language": "python",
   "name": "python3"
  },
  "language_info": {
   "codemirror_mode": {
    "name": "ipython",
    "version": 2
   },
   "file_extension": ".py",
   "mimetype": "text/x-python",
   "name": "python",
   "nbconvert_exporter": "python",
   "pygments_lexer": "ipython2",
   "version": "2.7.6"
  }
 },
 "nbformat": 4,
 "nbformat_minor": 0
}
