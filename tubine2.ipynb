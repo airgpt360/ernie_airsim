{
 "cells": [
  {
   "cell_type": "code",
   "execution_count": 1,
   "metadata": {
    "collapsed": true
   },
   "outputs": [],
   "source": [
    "import ernie_airsim\n",
    "ernie_airsim = ernie_airsim.ErnieAirSim()"
   ]
  },
  {
   "cell_type": "code",
   "execution_count": 2,
   "outputs": [
    {
     "name": "stdout",
     "output_type": "stream",
     "text": [
      "python_code: aw.takeoff()\n",
      "\n"
     ]
    }
   ],
   "source": [
    "command = \"请起飞吧\"\n",
    "python_code = ernie_airsim.process(command)\n",
    "print(\"python_code:\", python_code)"
   ],
   "metadata": {
    "collapsed": false,
    "ExecuteTime": {
     "end_time": "2023-12-02T05:19:18.690951Z",
     "start_time": "2023-12-02T05:19:15.046137Z"
    }
   }
  },
  {
   "cell_type": "code",
   "execution_count": 3,
   "outputs": [
    {
     "name": "stdout",
     "output_type": "stream",
     "text": [
      "python_code: # 获取风力发电机1的位置\n",
      "turbine1_position = aw.get_position(\"turbine1\")\n",
      "\n",
      "# 计算无人机飞向风力发电机的目标位置\n",
      "target_position = [turbine1_position[0] + 3, turbine1_position[1], turbine1_position[2]]\n",
      "\n",
      "# 飞向目标位置\n",
      "aw.fly_to(target_position)\n",
      "\n"
     ]
    }
   ],
   "source": [
    "command = \"请选风力发电机1,沿X轴与风力发电机保持3米距离飞向风力发电机\"\n",
    "python_code = ernie_airsim.process(command)\n",
    "print(\"python_code:\", python_code)"
   ],
   "metadata": {
    "collapsed": false,
    "ExecuteTime": {
     "end_time": "2023-12-02T05:19:32.627092Z",
     "start_time": "2023-12-02T05:19:20.957856Z"
    }
   }
  },
  {
   "cell_type": "code",
   "execution_count": 4,
   "outputs": [
    {
     "name": "stdout",
     "output_type": "stream",
     "text": [
      "python_code: # 获取风力发电机2的位置\n",
      "turbine2_position = aw.get_position(\"turbine2\")\n",
      "\n",
      "# 计算无人机飞向风力发电机的目标位置\n",
      "target_position = [turbine2_position[0] + 12, turbine2_position[1], 50]\n",
      "\n",
      "# 飞向目标位置\n",
      "aw.fly_to(target_position)\n",
      "\n"
     ]
    }
   ],
   "source": [
    "command = \"请使用2号风力发电机。沿X轴与风力发电机2保持12米距离飞向涡轮机，并达到50米的高度的位置。\"\n",
    "python_code = ernie_airsim.process(command)\n",
    "print(\"python_code:\", python_code)"
   ],
   "metadata": {
    "collapsed": false,
    "ExecuteTime": {
     "end_time": "2023-12-02T05:38:17.299844Z",
     "start_time": "2023-12-02T05:38:04.072805Z"
    }
   }
  },
  {
   "cell_type": "code",
   "execution_count": 5,
   "outputs": [
    {
     "name": "stdout",
     "output_type": "stream",
     "text": [
      "python_code: # 获取风力发电机2的位置\n",
      "turbine2_position = aw.get_position(\"turbine2\")\n",
      "\n",
      "# 计算无人机飞向风力发电机的目标位置\n",
      "target_position = [turbine2_position[0] + 12, turbine2_position[1], -50]\n",
      "\n",
      "# 飞向目标位置\n",
      "aw.fly_to(target_position)\n",
      "\n"
     ]
    }
   ],
   "source": [
    "command = \"请注意，Z坐标是正方向是指向地心的，负方向指向天空，请对刚才的回复予以更正\"\n",
    "python_code = ernie_airsim.process(command)\n",
    "print(\"python_code:\", python_code)"
   ],
   "metadata": {
    "collapsed": false,
    "ExecuteTime": {
     "end_time": "2023-12-02T05:40:06.532409Z",
     "start_time": "2023-12-02T05:39:54.822376Z"
    }
   }
  },
  {
   "cell_type": "code",
   "execution_count": 6,
   "outputs": [
    {
     "name": "stdout",
     "output_type": "stream",
     "text": [
      "python_code: # 获取无人机的当前位置\n",
      "current_position = aw.get_drone_position()\n",
      "\n",
      "# 计算无人机飞向上方30米的目标位置\n",
      "up_position = [current_position[0], current_position[1], current_position[2] - 30]\n",
      "\n",
      "# 飞向上方30米的位置\n",
      "aw.fly_to(up_position)\n",
      "\n",
      "# 计算无人机飞回原位置的目标位置\n",
      "down_position = [current_position[0], current_position[1], current_position[2]]\n",
      "\n",
      "# 飞回原位置\n",
      "aw.fly_to(down_position)\n",
      "\n"
     ]
    }
   ],
   "source": [
    "command = \"现在让我们开始检查风力发电机的叶片。第一个叶片垂直向上，请飞到当前位置上方 30 米，然后再次向下。\"\n",
    "python_code = ernie_airsim.process(command)\n",
    "print(\"python_code:\", python_code)"
   ],
   "metadata": {
    "collapsed": false,
    "ExecuteTime": {
     "end_time": "2023-12-02T05:43:02.383538Z",
     "start_time": "2023-12-02T05:42:44.601894Z"
    }
   }
  },
  {
   "cell_type": "code",
   "execution_count": 7,
   "outputs": [
    {
     "name": "stdout",
     "output_type": "stream",
     "text": [
      "python_code: import math\n",
      "\n",
      "# 获取无人机的当前位置\n",
      "current_position = aw.get_drone_position()\n",
      "\n",
      "# 计算无人机沿与水平轴成-30度角的右下方向飞行的目标位置\n",
      "# 使用三角函数计算目标位置的Y和Z坐标\n",
      "angle = math.radians(-30)  # 将角度转换为弧度\n",
      "target_y = current_position[1] + 30 * math.cos(angle)\n",
      "target_z = current_position[2] + 30 * math.sin(angle)\n",
      "target_position = [current_position[0], target_y, target_z]\n",
      "\n",
      "# 沿与水平轴成-30度角的右下方向飞行30米\n",
      "aw.fly_to(target_position)\n",
      "\n",
      "# 返回当前位置\n",
      "aw.fly_to(current_position)\n",
      "\n"
     ]
    }
   ],
   "source": [
    "command = \"为了检查第二个叶片，我需要你以与水平轴成-30度角的右下方向飞行。您应该在YZ 平面上飞行30 米的距离，然后返回当前位置。\"\n",
    "python_code = ernie_airsim.process(command)\n",
    "print(\"python_code:\", python_code)"
   ],
   "metadata": {
    "collapsed": false,
    "ExecuteTime": {
     "end_time": "2023-12-02T05:44:19.387942Z",
     "start_time": "2023-12-02T05:43:57.344901Z"
    }
   }
  },
  {
   "cell_type": "code",
   "execution_count": 8,
   "outputs": [
    {
     "name": "stdout",
     "output_type": "stream",
     "text": [
      "python_code: import math\n",
      "\n",
      "# 获取无人机的当前位置\n",
      "current_position = aw.get_drone_position()\n",
      "\n",
      "# 计算无人机沿与水平轴成-30度角的右下方向飞行的目标位置\n",
      "# 使用三角函数计算目标位置的Y和Z坐标\n",
      "angle = math.radians(-30)  # 将角度转换为弧度\n",
      "target_y = current_position[1] + 30 * math.cos(angle)\n",
      "target_z = current_position[2] + abs(30 * math.sin(angle))  # 使用绝对值确保加上一个正数\n",
      "target_position = [current_position[0], target_y, target_z]\n",
      "\n",
      "# 沿与水平轴成-30度角的右下方向飞行30米\n",
      "aw.fly_to(target_position)\n",
      "\n",
      "# 返回当前位置\n",
      "aw.fly_to(current_position)\n",
      "\n"
     ]
    }
   ],
   "source": [
    "command = \"有个小问题，向右下方移动，Z轴应该是减去一个负数，或者加上一个正数，而-30度的sin值是负数\"\n",
    "python_code = ernie_airsim.process(command)\n",
    "print(\"python_code:\", python_code)"
   ],
   "metadata": {
    "collapsed": false,
    "ExecuteTime": {
     "end_time": "2023-12-02T05:44:47.242917Z",
     "start_time": "2023-12-02T05:44:27.017535Z"
    }
   }
  },
  {
   "cell_type": "code",
   "execution_count": 9,
   "outputs": [
    {
     "name": "stdout",
     "output_type": "stream",
     "text": [
      "python_code: import math\n",
      "\n",
      "# 获取无人机的当前位置\n",
      "current_position = aw.get_drone_position()\n",
      "\n",
      "# 计算无人机沿与水平轴成-30度角的右下方向飞行的目标位置\n",
      "# 使用三角函数计算目标位置的Y和Z坐标\n",
      "angle = math.radians(-30)  # 将角度转换为弧度\n",
      "target_y = current_position[1] + 30 * math.cos(angle)\n",
      "target_z = current_position[2] + abs(30 * math.sin(angle))  # 使用绝对值确保加上一个正数\n",
      "target_position = [current_position[0], target_y, target_z]\n",
      "\n",
      "# 沿与水平轴成-30度角的右下方向飞行30米\n",
      "aw.fly_to(target_position)\n",
      "\n",
      "# 停下，不返回当前位置\n",
      "\n"
     ]
    }
   ],
   "source": [
    "command = \"现在我们还需要检查叶片的背面。我需要你重复刚才所做的事情，但到了最后就停下来，无需返回\"\n",
    "python_code = ernie_airsim.process(command)\n",
    "print(\"python_code:\", python_code)"
   ],
   "metadata": {
    "collapsed": false,
    "ExecuteTime": {
     "end_time": "2023-12-02T05:45:37.518857Z",
     "start_time": "2023-12-02T05:45:18.884495Z"
    }
   }
  },
  {
   "cell_type": "code",
   "execution_count": 10,
   "outputs": [
    {
     "name": "stdout",
     "output_type": "stream",
     "text": [
      "python_code: # 获取无人机的当前位置\n",
      "current_position = aw.get_drone_position()\n",
      "\n",
      "# 计算无人机向前移动的目标位置\n",
      "target_position = [current_position[0] + 20 + 5, current_position[1], current_position[2]]  # 加上5米的间隙\n",
      "\n",
      "# 向前移动到风力发电机后面\n",
      "aw.fly_to(target_position)\n",
      "\n",
      "# 旋转180度\n",
      "aw.set_yaw(180)\n",
      "\n"
     ]
    }
   ],
   "source": [
    "command =\"现在向前移动，飞到风力发电机后面。在 X 轴上飞行 20 米，再加上几米的间隙，然后将无人机旋转 180 度。您可以使用 set_yaw() 函数来旋转无人机。\"\n",
    "python_code = ernie_airsim.process(command)\n",
    "print(\"python_code:\", python_code)"
   ],
   "metadata": {
    "collapsed": false,
    "ExecuteTime": {
     "end_time": "2023-12-02T05:51:11.054385Z",
     "start_time": "2023-12-02T05:50:54.173785Z"
    }
   }
  },
  {
   "cell_type": "code",
   "execution_count": 11,
   "outputs": [
    {
     "name": "stdout",
     "output_type": "stream",
     "text": [
      "python_code: import math\n",
      "\n",
      "# 获取无人机的当前位置\n",
      "current_position = aw.get_drone_position()\n",
      "\n",
      "# 计算无人机朝右上角方向飞行的目标位置\n",
      "# 使用三角函数计算目标位置的Y和Z坐标\n",
      "angle = math.radians(30)  # 将角度转换为弧度\n",
      "target_y = current_position[1] + 30 * math.cos(angle)\n",
      "target_z = current_position[2] + 30 * math.sin(angle)  # 无需使用绝对值，因为sin(30度)是正数\n",
      "target_position = [current_position[0], target_y, target_z]\n",
      "\n",
      "# 朝右上角方向飞行30米\n",
      "aw.fly_to(target_position)\n",
      "\n"
     ]
    }
   ],
   "source": [
    "command = \"太好了！现在我要你检查叶片的背面。这意味着你所做的与之前所做的完全相反，也就是说，朝右上角的方向飞行。\"\n",
    "python_code = ernie_airsim.process(command)\n",
    "print(\"python_code:\", python_code)"
   ],
   "metadata": {
    "collapsed": false,
    "ExecuteTime": {
     "end_time": "2023-12-02T05:52:03.466495Z",
     "start_time": "2023-12-02T05:51:45.318350Z"
    }
   }
  },
  {
   "cell_type": "code",
   "execution_count": 12,
   "outputs": [
    {
     "name": "stdout",
     "output_type": "stream",
     "text": [
      "python_code: import math\n",
      "\n",
      "# 获取无人机的当前位置\n",
      "current_position = aw.get_drone_position()\n",
      "\n",
      "# 计算无人机朝右上角方向飞行的目标位置\n",
      "# 使用三角函数计算目标位置的Y和Z坐标\n",
      "angle = math.radians(30)  # 将角度转换为弧度\n",
      "target_y = current_position[1] - 30 * math.cos(angle)  # Y轴减去一个正数\n",
      "target_z = current_position[2] - 30 * math.sin(angle)  # Z轴减去一个正数\n",
      "target_position = [current_position[0], target_y, target_z]\n",
      "\n",
      "# 朝右上角方向飞行30米\n",
      "aw.fly_to(target_position)\n",
      "\n"
     ]
    }
   ],
   "source": [
    "command = \"还是有个小问题，你现在是到了叶片背面，并且旋转了180度，以你的视角来看，是和之前左右和前后反转了。向右上方移动，Y轴应该是减去一个正数。而高度是增加了，因此Z轴应该是减去一个正数\"\n",
    "python_code = ernie_airsim.process(command)\n",
    "print(\"python_code:\", python_code)"
   ],
   "metadata": {
    "collapsed": false,
    "ExecuteTime": {
     "end_time": "2023-12-02T05:57:54.091053Z",
     "start_time": "2023-12-02T05:57:30.382011Z"
    }
   }
  },
  {
   "cell_type": "code",
   "execution_count": null,
   "outputs": [],
   "source": [],
   "metadata": {
    "collapsed": false
   }
  }
 ],
 "metadata": {
  "kernelspec": {
   "display_name": "Python 3",
   "language": "python",
   "name": "python3"
  },
  "language_info": {
   "codemirror_mode": {
    "name": "ipython",
    "version": 2
   },
   "file_extension": ".py",
   "mimetype": "text/x-python",
   "name": "python",
   "nbconvert_exporter": "python",
   "pygments_lexer": "ipython2",
   "version": "2.7.6"
  }
 },
 "nbformat": 4,
 "nbformat_minor": 0
}
