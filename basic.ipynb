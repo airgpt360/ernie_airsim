{
 "cells": [
  {
   "cell_type": "code",
   "execution_count": 4,
   "metadata": {
    "collapsed": true,
    "ExecuteTime": {
     "end_time": "2023-12-01T15:17:22.126202Z",
     "start_time": "2023-12-01T15:17:06.848748Z"
    }
   },
   "outputs": [],
   "source": [
    "import ernie_airsim\n",
    "ernie_airsim = ernie_airsim.ErnieAirSim()"
   ]
  },
  {
   "cell_type": "code",
   "execution_count": 5,
   "outputs": [
    {
     "name": "stdout",
     "output_type": "stream",
     "text": [
      "python_code: aw.takeoff()\n",
      "\n"
     ]
    }
   ],
   "source": [
    "command = \"起飞\"\n",
    "python_code = ernie_airsim.process(command)\n",
    "print(\"python_code:\", python_code)"
   ],
   "metadata": {
    "collapsed": false,
    "ExecuteTime": {
     "end_time": "2023-12-01T15:17:27.989639Z",
     "start_time": "2023-12-01T15:17:24.241539Z"
    }
   }
  },
  {
   "cell_type": "code",
   "execution_count": 6,
   "outputs": [
    {
     "name": "stdout",
     "output_type": "stream",
     "text": [
      "python_code: car_position = aw.get_position(\"car\")\n",
      "aw.fly_to([car_position[0], car_position[1], car_position[2]+10])\n",
      "\n"
     ]
    }
   ],
   "source": [
    "command = \"飞到汽车上方\"\n",
    "python_code = ernie_airsim.process(command)\n",
    "print(\"python_code:\", python_code)"
   ],
   "metadata": {
    "collapsed": false,
    "ExecuteTime": {
     "end_time": "2023-12-01T15:17:43.963141Z",
     "start_time": "2023-12-01T15:17:34.143109Z"
    }
   }
  },
  {
   "cell_type": "code",
   "execution_count": 7,
   "outputs": [
    {
     "name": "stdout",
     "output_type": "stream",
     "text": [
      "python_code: car_position = aw.get_position(\"car\")\n",
      "aw.fly_to([car_position[0], car_position[1], car_position[2]-10])\n",
      "\n"
     ]
    }
   ],
   "source": [
    "command = \"汽车上方应该是Z轴减去一个正数\"\n",
    "python_code = ernie_airsim.process(command)\n",
    "print(\"python_code:\", python_code)"
   ],
   "metadata": {
    "collapsed": false,
    "ExecuteTime": {
     "end_time": "2023-12-01T15:18:20.062393Z",
     "start_time": "2023-12-01T15:18:11.894701Z"
    }
   }
  },
  {
   "cell_type": "code",
   "execution_count": null,
   "outputs": [],
   "source": [],
   "metadata": {
    "collapsed": false
   }
  }
 ],
 "metadata": {
  "kernelspec": {
   "display_name": "Python 3",
   "language": "python",
   "name": "python3"
  },
  "language_info": {
   "codemirror_mode": {
    "name": "ipython",
    "version": 2
   },
   "file_extension": ".py",
   "mimetype": "text/x-python",
   "name": "python",
   "nbconvert_exporter": "python",
   "pygments_lexer": "ipython2",
   "version": "2.7.6"
  }
 },
 "nbformat": 4,
 "nbformat_minor": 0
}
