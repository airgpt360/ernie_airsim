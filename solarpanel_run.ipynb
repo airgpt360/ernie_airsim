{
 "cells": [
  {
   "cell_type": "code",
   "execution_count": 20,
   "metadata": {
    "collapsed": true,
    "ExecuteTime": {
     "end_time": "2023-12-02T14:52:53.501313Z",
     "start_time": "2023-12-02T14:52:53.403307Z"
    }
   },
   "outputs": [
    {
     "name": "stdout",
     "output_type": "stream",
     "text": [
      "Connected!\n",
      "Client Ver:1 (Min Req: 1), Server Ver:1 (Min Req: 1)\n",
      "\n",
      "Connected!\n",
      "Client Ver:1 (Min Req: 1), Server Ver:1 (Min Req: 1)\n",
      "\n"
     ]
    }
   ],
   "source": [
    "from airsim_wrapper import *\n",
    "aw = AirSimWrapper() #初始化airsim，airsim基本功能调用\n",
    "aw.reset()\n",
    "aw = AirSimWrapper() #初始化airsim，airsim基本功能调用"
   ]
  },
  {
   "cell_type": "code",
   "execution_count": 21,
   "outputs": [],
   "source": [
    "aw.takeoff()"
   ],
   "metadata": {
    "collapsed": false,
    "ExecuteTime": {
     "end_time": "2023-12-02T14:52:58.634043Z",
     "start_time": "2023-12-02T14:52:55.141265Z"
    }
   }
  },
  {
   "cell_type": "code",
   "execution_count": 22,
   "outputs": [],
   "source": [
    "aw.set_yaw(aw.get_yaw() + 90)  # 顺时针旋转90度\n",
    "aw.fly_to(aw.get_position(\"solarpanels\"))  # 飞向太阳能电池板"
   ],
   "metadata": {
    "collapsed": false,
    "ExecuteTime": {
     "end_time": "2023-12-02T14:53:27.197918Z",
     "start_time": "2023-12-02T14:52:59.381828Z"
    }
   }
  },
  {
   "cell_type": "code",
   "execution_count": 23,
   "outputs": [],
   "source": [
    "current_position = aw.get_drone_position()\n",
    "\n",
    "# 沿宽度方向向右飞到第一行的最右端\n",
    "aw.fly_to([current_position[0]-30, current_position[1], current_position[2]])\n",
    "\n",
    "# 向后飞行6米到达第二行的最右端\n",
    "aw.fly_to([current_position[0]-30, current_position[1]-6, current_position[2]])\n",
    "\n",
    "# 向左飞行到达第二行的最左侧\n",
    "aw.fly_to([current_position[0], current_position[1]-6, current_position[2]])\n",
    "\n",
    "# 再向后飞行6米到达下一行\n",
    "aw.fly_to([current_position[0], current_position[1]-12, current_position[2]])\n",
    "\n"
   ],
   "metadata": {
    "collapsed": false,
    "ExecuteTime": {
     "end_time": "2023-12-02T14:54:09.389968Z",
     "start_time": "2023-12-02T14:53:50.891540Z"
    }
   }
  },
  {
   "cell_type": "code",
   "execution_count": 9,
   "outputs": [],
   "source": [
    "aw.fly_to(aw.get_position(\"solarpanels\"))  # 飞向太阳能电池板"
   ],
   "metadata": {
    "collapsed": false,
    "ExecuteTime": {
     "end_time": "2023-12-02T07:12:10.540599Z",
     "start_time": "2023-12-02T07:11:57.197926Z"
    }
   }
  },
  {
   "cell_type": "code",
   "execution_count": 24,
   "outputs": [],
   "source": [
    "for i in range(5):\n",
    "    # 获取无人机当前位置\n",
    "    current_position = aw.get_drone_position()\n",
    "\n",
    "    # 沿宽度方向向右飞到第一行的最右端\n",
    "    aw.fly_to([current_position[0]-30, current_position[1], current_position[2]])\n",
    "\n",
    "      # 向后飞行6米到达第二行的最右端\n",
    "    aw.fly_to([current_position[0]-30, current_position[1]-6, current_position[2]])\n",
    "\n",
    "    # 向左飞行到达第二行的最左侧\n",
    "    aw.fly_to([current_position[0], current_position[1]-6, current_position[2]])\n",
    "\n",
    "    # 再向后飞行6米到达下一行\n",
    "    aw.fly_to([current_position[0], current_position[1]-12, current_position[2]])\n",
    "\n",
    "\n",
    "\n"
   ],
   "metadata": {
    "collapsed": false,
    "ExecuteTime": {
     "end_time": "2023-12-02T15:07:38.222511Z",
     "start_time": "2023-12-02T15:06:06.981610Z"
    }
   }
  },
  {
   "cell_type": "code",
   "execution_count": 10,
   "outputs": [],
   "source": [
    "solar_panel_length = 50\n",
    "solar_panel_width = 30\n",
    "flight_height = 5\n",
    "\n",
    "# 将太阳能电池板阵列的长度分为10行\n",
    "num_rows = 10\n",
    "row_length = solar_panel_length / num_rows\n",
    "\n",
    "# 无人机的起始位置\n",
    "start_position = aw.get_drone_position()\n",
    "\n",
    "# 循环遍历每一行\n",
    "for i in range(num_rows):\n",
    "    # 如果是偶数行，从右往左飞行，否则从左往右飞行\n",
    "    if i % 2 == 0:\n",
    "        # 飞到该行的最右端\n",
    "        aw.fly_to([start_position[0] + solar_panel_width, start_position[1] + i * row_length, flight_height])\n",
    "\n",
    "        # 从右往左飞行，检查该行的太阳能电池板\n",
    "        for j in range(int(solar_panel_width/row_length)):\n",
    "            aw.fly_to([start_position[0] + solar_panel_width - (j+1) * row_length, start_position[1] + i * row_length, flight_height])\n",
    "\n",
    "    else:\n",
    "        # 飞到该行的最左端\n",
    "        aw.fly_to([start_position[0], start_position[1] + i * row_length, flight_height])\n",
    "\n",
    "        # 从左往右飞行，检查该行的太阳能电池板\n",
    "        for j in range(int(solar_panel_width/row_length)):\n",
    "            aw.fly_to([start_position[0] + j * row_length, start_position[1] + i * row_length, flight_height])\n",
    "\n",
    "     # 飞到下一行的起始位置或结束位置\n",
    "    if i < num_rows - 1:\n",
    "        if i % 2 == 0:\n",
    "            aw.fly_to([start_position[0] + solar_panel_width, start_position[1] + (i+1) * row_length, flight_height])\n",
    "        else:\n",
    "            aw.fly_to([start_position[0], start_position[1] + (i+1) * row_length, flight_height])\n"
   ],
   "metadata": {
    "collapsed": false,
    "ExecuteTime": {
     "end_time": "2023-12-02T07:17:23.215657Z",
     "start_time": "2023-12-02T07:13:33.722294Z"
    }
   }
  },
  {
   "cell_type": "code",
   "execution_count": null,
   "outputs": [],
   "source": [],
   "metadata": {
    "collapsed": false
   }
  }
 ],
 "metadata": {
  "kernelspec": {
   "display_name": "Python 3",
   "language": "python",
   "name": "python3"
  },
  "language_info": {
   "codemirror_mode": {
    "name": "ipython",
    "version": 2
   },
   "file_extension": ".py",
   "mimetype": "text/x-python",
   "name": "python",
   "nbconvert_exporter": "python",
   "pygments_lexer": "ipython2",
   "version": "2.7.6"
  }
 },
 "nbformat": 4,
 "nbformat_minor": 0
}
