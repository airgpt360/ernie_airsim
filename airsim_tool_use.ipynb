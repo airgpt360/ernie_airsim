{
 "cells": [
  {
   "cell_type": "code",
   "execution_count": 4,
   "metadata": {
    "collapsed": true,
    "ExecuteTime": {
     "end_time": "2023-11-29T06:24:46.581236Z",
     "start_time": "2023-11-29T06:24:46.561158Z"
    }
   },
   "outputs": [
    {
     "name": "stdout",
     "output_type": "stream",
     "text": [
      "Connected!\n",
      "Client Ver:1 (Min Req: 1), Server Ver:1 (Min Req: 1)\n",
      "\n"
     ]
    }
   ],
   "source": [
    "from airsim_wrapper import *\n",
    "aw = AirSimWrapper() #初始化airsim，airsim基本功能调用"
   ]
  },
  {
   "cell_type": "code",
   "execution_count": 5,
   "outputs": [],
   "source": [
    "aw.takeoff()"
   ],
   "metadata": {
    "collapsed": false,
    "ExecuteTime": {
     "end_time": "2023-11-29T06:24:54.147658Z",
     "start_time": "2023-11-29T06:24:50.724033Z"
    }
   }
  },
  {
   "cell_type": "code",
   "execution_count": 7,
   "outputs": [],
   "source": [
    "car_position = aw.get_position(\"car\")\n",
    "aw.fly_to([car_position[0], car_position[1], car_position[2]+10])"
   ],
   "metadata": {
    "collapsed": false,
    "ExecuteTime": {
     "end_time": "2023-11-29T07:02:25.689361Z",
     "start_time": "2023-11-29T07:02:11.308060Z"
    }
   }
  },
  {
   "cell_type": "code",
   "execution_count": 17,
   "outputs": [],
   "source": [
    "aw.reset()"
   ],
   "metadata": {
    "collapsed": false,
    "ExecuteTime": {
     "end_time": "2023-11-29T07:24:33.839762Z",
     "start_time": "2023-11-29T07:24:33.816856Z"
    }
   }
  },
  {
   "cell_type": "code",
   "execution_count": null,
   "outputs": [],
   "source": [
    "#第二阶段"
   ],
   "metadata": {
    "collapsed": false
   }
  },
  {
   "cell_type": "code",
   "execution_count": 18,
   "outputs": [
    {
     "name": "stdout",
     "output_type": "stream",
     "text": [
      "Connected!\n",
      "Client Ver:1 (Min Req: 1), Server Ver:1 (Min Req: 1)\n",
      "\n"
     ]
    }
   ],
   "source": [
    "aw = AirSimWrapper() #初始化airsim，airsim基本功能调用\n",
    "aw.takeoff()"
   ],
   "metadata": {
    "collapsed": false,
    "ExecuteTime": {
     "end_time": "2023-11-29T07:24:41.744584Z",
     "start_time": "2023-11-29T07:24:38.288387Z"
    }
   }
  },
  {
   "cell_type": "code",
   "execution_count": 19,
   "outputs": [],
   "source": [
    "turbine_position = aw.get_position(\"turbine1\")  # 获取涡轮1的位置\n",
    "aw.fly_to(turbine_position)  # 将无人机飞到涡轮1的位置"
   ],
   "metadata": {
    "collapsed": false,
    "ExecuteTime": {
     "end_time": "2023-11-29T07:25:15.791668Z",
     "start_time": "2023-11-29T07:24:50.002374Z"
    }
   }
  },
  {
   "cell_type": "code",
   "execution_count": 20,
   "outputs": [
    {
     "ename": "KeyboardInterrupt",
     "evalue": "",
     "output_type": "error",
     "traceback": [
      "\u001B[0;31m---------------------------------------------------------------------------\u001B[0m",
      "\u001B[0;31mKeyboardInterrupt\u001B[0m                         Traceback (most recent call last)",
      "Cell \u001B[0;32mIn[20], line 6\u001B[0m\n\u001B[1;32m      3\u001B[0m \u001B[38;5;66;03m# 沿X轴与涡轮机保持12米距离，并达到50米的高度\u001B[39;00m\n\u001B[1;32m      4\u001B[0m target_position \u001B[38;5;241m=\u001B[39m [turbine_position[\u001B[38;5;241m0\u001B[39m] \u001B[38;5;241m+\u001B[39m \u001B[38;5;241m12\u001B[39m, turbine_position[\u001B[38;5;241m1\u001B[39m], turbine_position[\u001B[38;5;241m2\u001B[39m] \u001B[38;5;241m+\u001B[39m \u001B[38;5;241m50\u001B[39m]\n\u001B[0;32m----> 6\u001B[0m \u001B[43maw\u001B[49m\u001B[38;5;241;43m.\u001B[39;49m\u001B[43mfly_to\u001B[49m\u001B[43m(\u001B[49m\u001B[43mtarget_position\u001B[49m\u001B[43m)\u001B[49m  \u001B[38;5;66;03m# 将无人机飞到目标位置\u001B[39;00m\n",
      "File \u001B[0;32m~/project/mac/PycharmProjects/moniai/airgpt/baidu/ernie_airsim/airsim_wrapper.py:39\u001B[0m, in \u001B[0;36mAirSimWrapper.fly_to\u001B[0;34m(self, point)\u001B[0m\n\u001B[1;32m     37\u001B[0m \u001B[38;5;28;01mdef\u001B[39;00m \u001B[38;5;21mfly_to\u001B[39m(\u001B[38;5;28mself\u001B[39m, point):\n\u001B[1;32m     38\u001B[0m     \u001B[38;5;28;01mif\u001B[39;00m point[\u001B[38;5;241m2\u001B[39m] \u001B[38;5;241m>\u001B[39m \u001B[38;5;241m0\u001B[39m:\n\u001B[0;32m---> 39\u001B[0m         \u001B[38;5;28;43mself\u001B[39;49m\u001B[38;5;241;43m.\u001B[39;49m\u001B[43mclient\u001B[49m\u001B[38;5;241;43m.\u001B[39;49m\u001B[43mmoveToPositionAsync\u001B[49m\u001B[43m(\u001B[49m\u001B[43mpoint\u001B[49m\u001B[43m[\u001B[49m\u001B[38;5;241;43m0\u001B[39;49m\u001B[43m]\u001B[49m\u001B[43m,\u001B[49m\u001B[43m \u001B[49m\u001B[43mpoint\u001B[49m\u001B[43m[\u001B[49m\u001B[38;5;241;43m1\u001B[39;49m\u001B[43m]\u001B[49m\u001B[43m,\u001B[49m\u001B[43m \u001B[49m\u001B[38;5;241;43m-\u001B[39;49m\u001B[43mpoint\u001B[49m\u001B[43m[\u001B[49m\u001B[38;5;241;43m2\u001B[39;49m\u001B[43m]\u001B[49m\u001B[43m,\u001B[49m\u001B[43m \u001B[49m\u001B[38;5;241;43m5\u001B[39;49m\u001B[43m)\u001B[49m\u001B[38;5;241;43m.\u001B[39;49m\u001B[43mjoin\u001B[49m\u001B[43m(\u001B[49m\u001B[43m)\u001B[49m\n\u001B[1;32m     40\u001B[0m     \u001B[38;5;28;01melse\u001B[39;00m:\n\u001B[1;32m     41\u001B[0m         \u001B[38;5;28mself\u001B[39m\u001B[38;5;241m.\u001B[39mclient\u001B[38;5;241m.\u001B[39mmoveToPositionAsync(point[\u001B[38;5;241m0\u001B[39m], point[\u001B[38;5;241m1\u001B[39m], point[\u001B[38;5;241m2\u001B[39m], \u001B[38;5;241m5\u001B[39m)\u001B[38;5;241m.\u001B[39mjoin()\n",
      "File \u001B[0;32m~/project/mac/PycharmProjects/moniai/airgpt/baidu/ernie_airsim/./external-libraries/msgpackrpc/future.py:22\u001B[0m, in \u001B[0;36mFuture.join\u001B[0;34m(self)\u001B[0m\n\u001B[1;32m     20\u001B[0m \u001B[38;5;28;01mdef\u001B[39;00m \u001B[38;5;21mjoin\u001B[39m(\u001B[38;5;28mself\u001B[39m):\n\u001B[1;32m     21\u001B[0m     \u001B[38;5;28;01mwhile\u001B[39;00m (\u001B[38;5;129;01mnot\u001B[39;00m \u001B[38;5;28mself\u001B[39m\u001B[38;5;241m.\u001B[39m_set_flag):\n\u001B[0;32m---> 22\u001B[0m         \u001B[38;5;28;43mself\u001B[39;49m\u001B[38;5;241;43m.\u001B[39;49m\u001B[43m_loop\u001B[49m\u001B[38;5;241;43m.\u001B[39;49m\u001B[43mstart\u001B[49m\u001B[43m(\u001B[49m\u001B[43m)\u001B[49m\n",
      "File \u001B[0;32m~/project/mac/PycharmProjects/moniai/airgpt/baidu/ernie_airsim/./external-libraries/msgpackrpc/loop.py:25\u001B[0m, in \u001B[0;36mLoop.start\u001B[0;34m(self)\u001B[0m\n\u001B[1;32m     20\u001B[0m \u001B[38;5;28;01mdef\u001B[39;00m \u001B[38;5;21mstart\u001B[39m(\u001B[38;5;28mself\u001B[39m):\n\u001B[1;32m     21\u001B[0m \u001B[38;5;250m    \u001B[39m\u001B[38;5;124;03m\"\"\"\\\u001B[39;00m\n\u001B[1;32m     22\u001B[0m \u001B[38;5;124;03m    Starts the Tornado's ioloop if it's not running.\u001B[39;00m\n\u001B[1;32m     23\u001B[0m \u001B[38;5;124;03m    \"\"\"\u001B[39;00m\n\u001B[0;32m---> 25\u001B[0m     \u001B[38;5;28;43mself\u001B[39;49m\u001B[38;5;241;43m.\u001B[39;49m\u001B[43m_ioloop\u001B[49m\u001B[38;5;241;43m.\u001B[39;49m\u001B[43mstart\u001B[49m\u001B[43m(\u001B[49m\u001B[43m)\u001B[49m\n",
      "File \u001B[0;32m~/project/mac/PycharmProjects/moniai/airgpt/baidu/ernie_airsim/./external-libraries/tornado4/ioloop.py:863\u001B[0m, in \u001B[0;36mPollIOLoop.start\u001B[0;34m(self)\u001B[0m\n\u001B[1;32m    860\u001B[0m     signal\u001B[38;5;241m.\u001B[39msetitimer(signal\u001B[38;5;241m.\u001B[39mITIMER_REAL, \u001B[38;5;241m0\u001B[39m, \u001B[38;5;241m0\u001B[39m)\n\u001B[1;32m    862\u001B[0m \u001B[38;5;28;01mtry\u001B[39;00m:\n\u001B[0;32m--> 863\u001B[0m     event_pairs \u001B[38;5;241m=\u001B[39m \u001B[38;5;28;43mself\u001B[39;49m\u001B[38;5;241;43m.\u001B[39;49m\u001B[43m_impl\u001B[49m\u001B[38;5;241;43m.\u001B[39;49m\u001B[43mpoll\u001B[49m\u001B[43m(\u001B[49m\u001B[43mpoll_timeout\u001B[49m\u001B[43m)\u001B[49m\n\u001B[1;32m    864\u001B[0m \u001B[38;5;28;01mexcept\u001B[39;00m \u001B[38;5;167;01mException\u001B[39;00m \u001B[38;5;28;01mas\u001B[39;00m e:\n\u001B[1;32m    865\u001B[0m     \u001B[38;5;66;03m# Depending on python version and IOLoop implementation,\u001B[39;00m\n\u001B[1;32m    866\u001B[0m     \u001B[38;5;66;03m# different exception types may be thrown and there are\u001B[39;00m\n\u001B[1;32m    867\u001B[0m     \u001B[38;5;66;03m# two ways EINTR might be signaled:\u001B[39;00m\n\u001B[1;32m    868\u001B[0m     \u001B[38;5;66;03m# * e.errno == errno.EINTR\u001B[39;00m\n\u001B[1;32m    869\u001B[0m     \u001B[38;5;66;03m# * e.args is like (errno.EINTR, 'Interrupted system call')\u001B[39;00m\n\u001B[1;32m    870\u001B[0m     \u001B[38;5;28;01mif\u001B[39;00m errno_from_exception(e) \u001B[38;5;241m==\u001B[39m errno\u001B[38;5;241m.\u001B[39mEINTR:\n",
      "File \u001B[0;32m~/project/mac/PycharmProjects/moniai/airgpt/baidu/ernie_airsim/./external-libraries/tornado4/platform/kqueue.py:66\u001B[0m, in \u001B[0;36m_KQueue.poll\u001B[0;34m(self, timeout)\u001B[0m\n\u001B[1;32m     65\u001B[0m \u001B[38;5;28;01mdef\u001B[39;00m \u001B[38;5;21mpoll\u001B[39m(\u001B[38;5;28mself\u001B[39m, timeout):\n\u001B[0;32m---> 66\u001B[0m     kevents \u001B[38;5;241m=\u001B[39m \u001B[38;5;28;43mself\u001B[39;49m\u001B[38;5;241;43m.\u001B[39;49m\u001B[43m_kqueue\u001B[49m\u001B[38;5;241;43m.\u001B[39;49m\u001B[43mcontrol\u001B[49m\u001B[43m(\u001B[49m\u001B[38;5;28;43;01mNone\u001B[39;49;00m\u001B[43m,\u001B[49m\u001B[43m \u001B[49m\u001B[38;5;241;43m1000\u001B[39;49m\u001B[43m,\u001B[49m\u001B[43m \u001B[49m\u001B[43mtimeout\u001B[49m\u001B[43m)\u001B[49m\n\u001B[1;32m     67\u001B[0m     events \u001B[38;5;241m=\u001B[39m {}\n\u001B[1;32m     68\u001B[0m     \u001B[38;5;28;01mfor\u001B[39;00m kevent \u001B[38;5;129;01min\u001B[39;00m kevents:\n",
      "\u001B[0;31mKeyboardInterrupt\u001B[0m: "
     ]
    }
   ],
   "source": [
    "turbine_position = aw.get_position(\"turbine2\")  # 获取涡轮2的位置\n",
    "\n",
    "# 沿X轴与涡轮机保持12米距离，并达到50米的高度\n",
    "target_position = [turbine_position[0] + 12, turbine_position[1], turbine_position[2] + 50]\n",
    "\n",
    "aw.fly_to(target_position)  # 将无人机飞到目标位置"
   ],
   "metadata": {
    "collapsed": false,
    "ExecuteTime": {
     "end_time": "2023-11-29T07:25:30.898076Z",
     "start_time": "2023-11-29T07:25:19.181884Z"
    }
   }
  },
  {
   "cell_type": "code",
   "execution_count": 21,
   "outputs": [
    {
     "ename": "RuntimeError",
     "evalue": "IOLoop is already running",
     "output_type": "error",
     "traceback": [
      "\u001B[0;31m---------------------------------------------------------------------------\u001B[0m",
      "\u001B[0;31mRuntimeError\u001B[0m                              Traceback (most recent call last)",
      "Cell \u001B[0;32mIn[21], line 1\u001B[0m\n\u001B[0;32m----> 1\u001B[0m current_position \u001B[38;5;241m=\u001B[39m \u001B[43maw\u001B[49m\u001B[38;5;241;43m.\u001B[39;49m\u001B[43mget_drone_position\u001B[49m\u001B[43m(\u001B[49m\u001B[43m)\u001B[49m\n\u001B[1;32m      3\u001B[0m \u001B[38;5;66;03m# 飞到当前位置上方30米\u001B[39;00m\n\u001B[1;32m      4\u001B[0m target_position_up \u001B[38;5;241m=\u001B[39m [current_position[\u001B[38;5;241m0\u001B[39m], current_position[\u001B[38;5;241m1\u001B[39m], current_position[\u001B[38;5;241m2\u001B[39m] \u001B[38;5;241m+\u001B[39m \u001B[38;5;241m30\u001B[39m]\n",
      "File \u001B[0;32m~/project/mac/PycharmProjects/moniai/airgpt/baidu/ernie_airsim/airsim_wrapper.py:34\u001B[0m, in \u001B[0;36mAirSimWrapper.get_drone_position\u001B[0;34m(self)\u001B[0m\n\u001B[1;32m     33\u001B[0m \u001B[38;5;28;01mdef\u001B[39;00m \u001B[38;5;21mget_drone_position\u001B[39m(\u001B[38;5;28mself\u001B[39m):\n\u001B[0;32m---> 34\u001B[0m     pose \u001B[38;5;241m=\u001B[39m \u001B[38;5;28;43mself\u001B[39;49m\u001B[38;5;241;43m.\u001B[39;49m\u001B[43mclient\u001B[49m\u001B[38;5;241;43m.\u001B[39;49m\u001B[43msimGetVehiclePose\u001B[49m\u001B[43m(\u001B[49m\u001B[43m)\u001B[49m\n\u001B[1;32m     35\u001B[0m     \u001B[38;5;28;01mreturn\u001B[39;00m [pose\u001B[38;5;241m.\u001B[39mposition\u001B[38;5;241m.\u001B[39mx_val, pose\u001B[38;5;241m.\u001B[39mposition\u001B[38;5;241m.\u001B[39my_val, pose\u001B[38;5;241m.\u001B[39mposition\u001B[38;5;241m.\u001B[39mz_val]\n",
      "File \u001B[0;32m~/project/mac/PycharmProjects/moniai/airgpt/baidu/ernie_airsim/./external-libraries/airsim/client.py:472\u001B[0m, in \u001B[0;36mVehicleClient.simGetVehiclePose\u001B[0;34m(self, vehicle_name)\u001B[0m\n\u001B[1;32m    462\u001B[0m \u001B[38;5;28;01mdef\u001B[39;00m \u001B[38;5;21msimGetVehiclePose\u001B[39m(\u001B[38;5;28mself\u001B[39m, vehicle_name \u001B[38;5;241m=\u001B[39m \u001B[38;5;124m'\u001B[39m\u001B[38;5;124m'\u001B[39m):\n\u001B[1;32m    463\u001B[0m \u001B[38;5;250m    \u001B[39m\u001B[38;5;124;03m\"\"\"\u001B[39;00m\n\u001B[1;32m    464\u001B[0m \u001B[38;5;124;03m    The position inside the returned Pose is in the frame of the vehicle's starting point\u001B[39;00m\n\u001B[1;32m    465\u001B[0m \u001B[38;5;124;03m    \u001B[39;00m\n\u001B[0;32m   (...)\u001B[0m\n\u001B[1;32m    470\u001B[0m \u001B[38;5;124;03m        Pose:\u001B[39;00m\n\u001B[1;32m    471\u001B[0m \u001B[38;5;124;03m    \"\"\"\u001B[39;00m\n\u001B[0;32m--> 472\u001B[0m     pose \u001B[38;5;241m=\u001B[39m \u001B[38;5;28;43mself\u001B[39;49m\u001B[38;5;241;43m.\u001B[39;49m\u001B[43mclient\u001B[49m\u001B[38;5;241;43m.\u001B[39;49m\u001B[43mcall\u001B[49m\u001B[43m(\u001B[49m\u001B[38;5;124;43m'\u001B[39;49m\u001B[38;5;124;43msimGetVehiclePose\u001B[39;49m\u001B[38;5;124;43m'\u001B[39;49m\u001B[43m,\u001B[49m\u001B[43m \u001B[49m\u001B[43mvehicle_name\u001B[49m\u001B[43m)\u001B[49m\n\u001B[1;32m    473\u001B[0m     \u001B[38;5;28;01mreturn\u001B[39;00m Pose\u001B[38;5;241m.\u001B[39mfrom_msgpack(pose)\n",
      "File \u001B[0;32m~/project/mac/PycharmProjects/moniai/airgpt/baidu/ernie_airsim/./external-libraries/msgpackrpc/session.py:41\u001B[0m, in \u001B[0;36mSession.call\u001B[0;34m(self, method, *args)\u001B[0m\n\u001B[1;32m     40\u001B[0m \u001B[38;5;28;01mdef\u001B[39;00m \u001B[38;5;21mcall\u001B[39m(\u001B[38;5;28mself\u001B[39m, method, \u001B[38;5;241m*\u001B[39margs):\n\u001B[0;32m---> 41\u001B[0m     \u001B[38;5;28;01mreturn\u001B[39;00m \u001B[38;5;28;43mself\u001B[39;49m\u001B[38;5;241;43m.\u001B[39;49m\u001B[43msend_request\u001B[49m\u001B[43m(\u001B[49m\u001B[43mmethod\u001B[49m\u001B[43m,\u001B[49m\u001B[43m \u001B[49m\u001B[43margs\u001B[49m\u001B[43m)\u001B[49m\u001B[38;5;241;43m.\u001B[39;49m\u001B[43mget\u001B[49m\u001B[43m(\u001B[49m\u001B[43m)\u001B[49m\n",
      "File \u001B[0;32m~/project/mac/PycharmProjects/moniai/airgpt/baidu/ernie_airsim/./external-libraries/msgpackrpc/future.py:25\u001B[0m, in \u001B[0;36mFuture.get\u001B[0;34m(self)\u001B[0m\n\u001B[1;32m     24\u001B[0m \u001B[38;5;28;01mdef\u001B[39;00m \u001B[38;5;21mget\u001B[39m(\u001B[38;5;28mself\u001B[39m):\n\u001B[0;32m---> 25\u001B[0m     \u001B[38;5;28;43mself\u001B[39;49m\u001B[38;5;241;43m.\u001B[39;49m\u001B[43mjoin\u001B[49m\u001B[43m(\u001B[49m\u001B[43m)\u001B[49m\n\u001B[1;32m     27\u001B[0m     \u001B[38;5;28;01massert\u001B[39;00m \u001B[38;5;28mself\u001B[39m\u001B[38;5;241m.\u001B[39m_set_flag \u001B[38;5;241m==\u001B[39m \u001B[38;5;28;01mTrue\u001B[39;00m\n\u001B[1;32m     28\u001B[0m     \u001B[38;5;28;01mif\u001B[39;00m \u001B[38;5;129;01mnot\u001B[39;00m \u001B[38;5;28mself\u001B[39m\u001B[38;5;241m.\u001B[39m_set_flag:\n\u001B[1;32m     29\u001B[0m         \u001B[38;5;66;03m# TODO: should be designed error !!\u001B[39;00m\n",
      "File \u001B[0;32m~/project/mac/PycharmProjects/moniai/airgpt/baidu/ernie_airsim/./external-libraries/msgpackrpc/future.py:22\u001B[0m, in \u001B[0;36mFuture.join\u001B[0;34m(self)\u001B[0m\n\u001B[1;32m     20\u001B[0m \u001B[38;5;28;01mdef\u001B[39;00m \u001B[38;5;21mjoin\u001B[39m(\u001B[38;5;28mself\u001B[39m):\n\u001B[1;32m     21\u001B[0m     \u001B[38;5;28;01mwhile\u001B[39;00m (\u001B[38;5;129;01mnot\u001B[39;00m \u001B[38;5;28mself\u001B[39m\u001B[38;5;241m.\u001B[39m_set_flag):\n\u001B[0;32m---> 22\u001B[0m         \u001B[38;5;28;43mself\u001B[39;49m\u001B[38;5;241;43m.\u001B[39;49m\u001B[43m_loop\u001B[49m\u001B[38;5;241;43m.\u001B[39;49m\u001B[43mstart\u001B[49m\u001B[43m(\u001B[49m\u001B[43m)\u001B[49m\n",
      "File \u001B[0;32m~/project/mac/PycharmProjects/moniai/airgpt/baidu/ernie_airsim/./external-libraries/msgpackrpc/loop.py:25\u001B[0m, in \u001B[0;36mLoop.start\u001B[0;34m(self)\u001B[0m\n\u001B[1;32m     20\u001B[0m \u001B[38;5;28;01mdef\u001B[39;00m \u001B[38;5;21mstart\u001B[39m(\u001B[38;5;28mself\u001B[39m):\n\u001B[1;32m     21\u001B[0m \u001B[38;5;250m    \u001B[39m\u001B[38;5;124;03m\"\"\"\\\u001B[39;00m\n\u001B[1;32m     22\u001B[0m \u001B[38;5;124;03m    Starts the Tornado's ioloop if it's not running.\u001B[39;00m\n\u001B[1;32m     23\u001B[0m \u001B[38;5;124;03m    \"\"\"\u001B[39;00m\n\u001B[0;32m---> 25\u001B[0m     \u001B[38;5;28;43mself\u001B[39;49m\u001B[38;5;241;43m.\u001B[39;49m\u001B[43m_ioloop\u001B[49m\u001B[38;5;241;43m.\u001B[39;49m\u001B[43mstart\u001B[49m\u001B[43m(\u001B[49m\u001B[43m)\u001B[49m\n",
      "File \u001B[0;32m~/project/mac/PycharmProjects/moniai/airgpt/baidu/ernie_airsim/./external-libraries/tornado4/ioloop.py:755\u001B[0m, in \u001B[0;36mPollIOLoop.start\u001B[0;34m(self)\u001B[0m\n\u001B[1;32m    753\u001B[0m \u001B[38;5;28;01mdef\u001B[39;00m \u001B[38;5;21mstart\u001B[39m(\u001B[38;5;28mself\u001B[39m):\n\u001B[1;32m    754\u001B[0m     \u001B[38;5;28;01mif\u001B[39;00m \u001B[38;5;28mself\u001B[39m\u001B[38;5;241m.\u001B[39m_running:\n\u001B[0;32m--> 755\u001B[0m         \u001B[38;5;28;01mraise\u001B[39;00m \u001B[38;5;167;01mRuntimeError\u001B[39;00m(\u001B[38;5;124m\"\u001B[39m\u001B[38;5;124mIOLoop is already running\u001B[39m\u001B[38;5;124m\"\u001B[39m)\n\u001B[1;32m    756\u001B[0m     \u001B[38;5;28mself\u001B[39m\u001B[38;5;241m.\u001B[39m_setup_logging()\n\u001B[1;32m    757\u001B[0m     \u001B[38;5;28;01mif\u001B[39;00m \u001B[38;5;28mself\u001B[39m\u001B[38;5;241m.\u001B[39m_stopped:\n",
      "\u001B[0;31mRuntimeError\u001B[0m: IOLoop is already running"
     ]
    }
   ],
   "source": [
    "current_position = aw.get_drone_position()\n",
    "\n",
    "# 飞到当前位置上方30米\n",
    "target_position_up = [current_position[0], current_position[1], current_position[2] + 30]\n",
    "aw.fly_to(target_position_up)"
   ],
   "metadata": {
    "collapsed": false,
    "ExecuteTime": {
     "end_time": "2023-11-29T07:37:28.505188Z",
     "start_time": "2023-11-29T07:37:28.468501Z"
    }
   }
  },
  {
   "cell_type": "code",
   "execution_count": null,
   "outputs": [],
   "source": [],
   "metadata": {
    "collapsed": false
   }
  }
 ],
 "metadata": {
  "kernelspec": {
   "display_name": "Python 3",
   "language": "python",
   "name": "python3"
  },
  "language_info": {
   "codemirror_mode": {
    "name": "ipython",
    "version": 2
   },
   "file_extension": ".py",
   "mimetype": "text/x-python",
   "name": "python",
   "nbconvert_exporter": "python",
   "pygments_lexer": "ipython2",
   "version": "2.7.6"
  }
 },
 "nbformat": 4,
 "nbformat_minor": 0
}
